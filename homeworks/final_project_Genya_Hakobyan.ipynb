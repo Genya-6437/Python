{
 "cells": [
  {
   "cell_type": "markdown",
   "id": "47a02ae2",
   "metadata": {},
   "source": [
    "# Libraries"
   ]
  },
  {
   "cell_type": "code",
   "execution_count": 1,
   "id": "7770e03e",
   "metadata": {},
   "outputs": [],
   "source": [
    "import pandas as pd\n",
    "import numpy as np\n",
    "import matplotlib.pyplot as plt\n",
    "import seaborn as sns"
   ]
  },
  {
   "cell_type": "markdown",
   "id": "a85ac7c7",
   "metadata": {},
   "source": [
    "# Tasks"
   ]
  },
  {
   "cell_type": "markdown",
   "id": "16b0e098",
   "metadata": {},
   "source": [
    "###  Dataset"
   ]
  },
  {
   "cell_type": "markdown",
   "id": "fcbe5751",
   "metadata": {},
   "source": [
    "streams.csv - one row per date, country, region, gender, n_of_streams\n",
    "\n",
    "n_of_streams - total number of spotify streams for the artist, that is how many times song of that artist were listened to (the entrire dataset relates to one artist only)\n"
   ]
  },
  {
   "cell_type": "code",
   "execution_count": 2,
   "id": "71faa302",
   "metadata": {},
   "outputs": [],
   "source": [
    "streams = pd.read_csv('C:/Users/USER/Desktop/python/Python/homeworks/final_project/streams.csv')"
   ]
  },
  {
   "cell_type": "code",
   "execution_count": 3,
   "id": "abbfde17",
   "metadata": {},
   "outputs": [
    {
     "data": {
      "text/html": [
       "<div>\n",
       "<style scoped>\n",
       "    .dataframe tbody tr th:only-of-type {\n",
       "        vertical-align: middle;\n",
       "    }\n",
       "\n",
       "    .dataframe tbody tr th {\n",
       "        vertical-align: top;\n",
       "    }\n",
       "\n",
       "    .dataframe thead th {\n",
       "        text-align: right;\n",
       "    }\n",
       "</style>\n",
       "<table border=\"1\" class=\"dataframe\">\n",
       "  <thead>\n",
       "    <tr style=\"text-align: right;\">\n",
       "      <th></th>\n",
       "      <th>Unnamed: 0</th>\n",
       "      <th>date</th>\n",
       "      <th>country</th>\n",
       "      <th>region</th>\n",
       "      <th>gender</th>\n",
       "      <th>n_of_streams</th>\n",
       "    </tr>\n",
       "  </thead>\n",
       "  <tbody>\n",
       "    <tr>\n",
       "      <th>0</th>\n",
       "      <td>0</td>\n",
       "      <td>2021-10-19</td>\n",
       "      <td>US</td>\n",
       "      <td>539</td>\n",
       "      <td>NaN</td>\n",
       "      <td>23</td>\n",
       "    </tr>\n",
       "    <tr>\n",
       "      <th>1</th>\n",
       "      <td>1</td>\n",
       "      <td>2021-10-20</td>\n",
       "      <td>SE</td>\n",
       "      <td>SE-AB</td>\n",
       "      <td>male</td>\n",
       "      <td>110</td>\n",
       "    </tr>\n",
       "    <tr>\n",
       "      <th>2</th>\n",
       "      <td>2</td>\n",
       "      <td>2021-10-26</td>\n",
       "      <td>FR</td>\n",
       "      <td>FR-67</td>\n",
       "      <td>male</td>\n",
       "      <td>3</td>\n",
       "    </tr>\n",
       "    <tr>\n",
       "      <th>3</th>\n",
       "      <td>3</td>\n",
       "      <td>2021-11-28</td>\n",
       "      <td>EC</td>\n",
       "      <td>EC-F</td>\n",
       "      <td>female</td>\n",
       "      <td>3</td>\n",
       "    </tr>\n",
       "    <tr>\n",
       "      <th>4</th>\n",
       "      <td>4</td>\n",
       "      <td>2021-10-17</td>\n",
       "      <td>GR</td>\n",
       "      <td>GR-54</td>\n",
       "      <td>NaN</td>\n",
       "      <td>1</td>\n",
       "    </tr>\n",
       "  </tbody>\n",
       "</table>\n",
       "</div>"
      ],
      "text/plain": [
       "   Unnamed: 0        date country region  gender  n_of_streams\n",
       "0           0  2021-10-19      US    539     NaN            23\n",
       "1           1  2021-10-20      SE  SE-AB    male           110\n",
       "2           2  2021-10-26      FR  FR-67    male             3\n",
       "3           3  2021-11-28      EC   EC-F  female             3\n",
       "4           4  2021-10-17      GR  GR-54     NaN             1"
      ]
     },
     "execution_count": 3,
     "metadata": {},
     "output_type": "execute_result"
    }
   ],
   "source": [
    "streams.head()"
   ]
  },
  {
   "cell_type": "code",
   "execution_count": 4,
   "id": "6d423f8d",
   "metadata": {},
   "outputs": [
    {
     "name": "stdout",
     "output_type": "stream",
     "text": [
      "<class 'pandas.core.frame.DataFrame'>\n",
      "RangeIndex: 233741 entries, 0 to 233740\n",
      "Data columns (total 6 columns):\n",
      " #   Column        Non-Null Count   Dtype \n",
      "---  ------        --------------   ----- \n",
      " 0   Unnamed: 0    233741 non-null  int64 \n",
      " 1   date          233741 non-null  object\n",
      " 2   country       233707 non-null  object\n",
      " 3   region        231339 non-null  object\n",
      " 4   gender        201886 non-null  object\n",
      " 5   n_of_streams  233741 non-null  int64 \n",
      "dtypes: int64(2), object(4)\n",
      "memory usage: 10.7+ MB\n"
     ]
    }
   ],
   "source": [
    "streams.info()"
   ]
  },
  {
   "cell_type": "markdown",
   "id": "a4a0860b",
   "metadata": {},
   "source": [
    "### Tasks"
   ]
  },
  {
   "cell_type": "markdown",
   "id": "de565e15",
   "metadata": {},
   "source": [
    "### Task 1. Report following numbers"
   ]
  },
  {
   "cell_type": "markdown",
   "id": "1cdf0ed3",
   "metadata": {},
   "source": [
    "1.1 dataset shape"
   ]
  },
  {
   "cell_type": "code",
   "execution_count": 5,
   "id": "8f2cdb43",
   "metadata": {},
   "outputs": [
    {
     "data": {
      "text/plain": [
       "(233741, 6)"
      ]
     },
     "execution_count": 5,
     "metadata": {},
     "output_type": "execute_result"
    }
   ],
   "source": [
    "streams.shape"
   ]
  },
  {
   "cell_type": "markdown",
   "id": "41105a09",
   "metadata": {},
   "source": [
    "1.2 min, max date available"
   ]
  },
  {
   "cell_type": "code",
   "execution_count": 6,
   "id": "04765210",
   "metadata": {},
   "outputs": [
    {
     "name": "stdout",
     "output_type": "stream",
     "text": [
      "min date available = 2021-10-09\n",
      "max date available = 2021-12-11\n"
     ]
    }
   ],
   "source": [
    "min_value = streams['date'].min()\n",
    "max_value = streams['date'].max()\n",
    "\n",
    "print(f'min date available = {min_value}')\n",
    "print(f'max date available = {max_value}')"
   ]
  },
  {
   "cell_type": "markdown",
   "id": "b01f0e47",
   "metadata": {},
   "source": [
    "1.3 number of countries, regions, genders"
   ]
  },
  {
   "cell_type": "code",
   "execution_count": 7,
   "id": "18d4fbf9",
   "metadata": {},
   "outputs": [
    {
     "name": "stdout",
     "output_type": "stream",
     "text": [
      "number_of_countries = 176\n",
      "number_of_regions = 2359\n",
      "number_of_genders = 3\n"
     ]
    }
   ],
   "source": [
    "number_of_countries = streams['country'].value_counts().count()\n",
    "number_of_regions = streams['region'].value_counts().count()\n",
    "number_of_genders = streams['gender'].value_counts().count()\n",
    "\n",
    "print(f'number_of_countries = {number_of_countries}')\n",
    "print(f'number_of_regions = {number_of_regions}')\n",
    "print(f'number_of_genders = {number_of_genders}')"
   ]
  },
  {
   "cell_type": "markdown",
   "id": "0b5cfa84",
   "metadata": {},
   "source": [
    "1.4 number of missing values for country, region, gender, streams"
   ]
  },
  {
   "cell_type": "code",
   "execution_count": 8,
   "id": "da62c6eb",
   "metadata": {},
   "outputs": [
    {
     "name": "stdout",
     "output_type": "stream",
     "text": [
      "number of missing values for country:  34\n",
      "number of missing values for region:  2402\n",
      "number of missing values for gender:  31855\n",
      "number of missing values for n_of_streams:  0\n"
     ]
    }
   ],
   "source": [
    "for column in ['country', 'region', 'gender', 'n_of_streams']:\n",
    "    print(f\"number of missing values for {column}: \", streams[column].isnull().sum())"
   ]
  },
  {
   "cell_type": "markdown",
   "id": "76a079a0",
   "metadata": {},
   "source": [
    "### Task 2. Report following descriptive tables"
   ]
  },
  {
   "cell_type": "markdown",
   "id": "833f7606",
   "metadata": {},
   "source": [
    "#### 2.A. per country"
   ]
  },
  {
   "cell_type": "markdown",
   "id": "491e19c3",
   "metadata": {},
   "source": [
    "2.A.1 number of regions"
   ]
  },
  {
   "cell_type": "code",
   "execution_count": 9,
   "id": "8f8b5f05",
   "metadata": {},
   "outputs": [],
   "source": [
    "number_of_regions = streams.groupby(\"country\")[\"region\"].nunique()"
   ]
  },
  {
   "cell_type": "markdown",
   "id": "1806e06b",
   "metadata": {},
   "source": [
    "2.A.2   total number of streams\n",
    "\n",
    "2.A.3   average number of streams\n",
    "\n",
    "2.A.4   standard deviation\n",
    "\n"
   ]
  },
  {
   "cell_type": "code",
   "execution_count": 10,
   "id": "ce6d4a4c",
   "metadata": {},
   "outputs": [],
   "source": [
    "group_by_country = streams.groupby(['country']).agg(\n",
    "    total_num_of_streams = pd.NamedAgg('n_of_streams', sum ),\n",
    "    avg_num_of_streams = pd.NamedAgg('n_of_streams', np.nanmean ),\n",
    "    st_dev_of_streams = pd.NamedAgg('n_of_streams', np.nanstd )\n",
    ")"
   ]
  },
  {
   "cell_type": "markdown",
   "id": "9723fb00",
   "metadata": {},
   "source": [
    "2.A.5   percentage of total number of streams"
   ]
  },
  {
   "cell_type": "code",
   "execution_count": 11,
   "id": "4a17011f",
   "metadata": {},
   "outputs": [],
   "source": [
    "total_num = streams[\"n_of_streams\"].sum()\n",
    "\n",
    "group_by_country[\"percentage\"] = [(x/total_num)*100 for x in group_by_country['total_num_of_streams']]"
   ]
  },
  {
   "cell_type": "code",
   "execution_count": 12,
   "id": "f36a887c",
   "metadata": {},
   "outputs": [],
   "source": [
    "country = pd.DataFrame(number_of_regions).index"
   ]
  },
  {
   "cell_type": "code",
   "execution_count": 13,
   "id": "af2e9133",
   "metadata": {},
   "outputs": [],
   "source": [
    "df = pd.DataFrame()\n",
    "df[\"country\"] = country"
   ]
  },
  {
   "cell_type": "code",
   "execution_count": 14,
   "id": "81a094b9",
   "metadata": {},
   "outputs": [],
   "source": [
    "per_country = pd.merge( df[\"country\"], number_of_regions, on=\"country\")\n",
    "per_country = pd.merge( per_country, group_by_country, on=\"country\")\n",
    "\n",
    "per_country = per_country.rename({'region': 'num_of_regions'}, axis=1)"
   ]
  },
  {
   "cell_type": "code",
   "execution_count": 15,
   "id": "d89fed70",
   "metadata": {},
   "outputs": [
    {
     "data": {
      "text/html": [
       "<div>\n",
       "<style scoped>\n",
       "    .dataframe tbody tr th:only-of-type {\n",
       "        vertical-align: middle;\n",
       "    }\n",
       "\n",
       "    .dataframe tbody tr th {\n",
       "        vertical-align: top;\n",
       "    }\n",
       "\n",
       "    .dataframe thead th {\n",
       "        text-align: right;\n",
       "    }\n",
       "</style>\n",
       "<table border=\"1\" class=\"dataframe\">\n",
       "  <thead>\n",
       "    <tr style=\"text-align: right;\">\n",
       "      <th></th>\n",
       "      <th>country</th>\n",
       "      <th>num_of_regions</th>\n",
       "      <th>total_num_of_streams</th>\n",
       "      <th>avg_num_of_streams</th>\n",
       "      <th>st_dev_of_streams</th>\n",
       "      <th>percentage</th>\n",
       "    </tr>\n",
       "  </thead>\n",
       "  <tbody>\n",
       "    <tr>\n",
       "      <th>0</th>\n",
       "      <td>AD</td>\n",
       "      <td>7</td>\n",
       "      <td>645</td>\n",
       "      <td>2.320144</td>\n",
       "      <td>1.815007</td>\n",
       "      <td>0.005185</td>\n",
       "    </tr>\n",
       "    <tr>\n",
       "      <th>1</th>\n",
       "      <td>AE</td>\n",
       "      <td>7</td>\n",
       "      <td>3409</td>\n",
       "      <td>4.998534</td>\n",
       "      <td>4.283458</td>\n",
       "      <td>0.027404</td>\n",
       "    </tr>\n",
       "    <tr>\n",
       "      <th>2</th>\n",
       "      <td>AG</td>\n",
       "      <td>3</td>\n",
       "      <td>32</td>\n",
       "      <td>1.333333</td>\n",
       "      <td>1.129319</td>\n",
       "      <td>0.000257</td>\n",
       "    </tr>\n",
       "    <tr>\n",
       "      <th>3</th>\n",
       "      <td>AL</td>\n",
       "      <td>7</td>\n",
       "      <td>270</td>\n",
       "      <td>1.607143</td>\n",
       "      <td>1.121567</td>\n",
       "      <td>0.002170</td>\n",
       "    </tr>\n",
       "    <tr>\n",
       "      <th>4</th>\n",
       "      <td>AM</td>\n",
       "      <td>3</td>\n",
       "      <td>32</td>\n",
       "      <td>1.000000</td>\n",
       "      <td>0.000000</td>\n",
       "      <td>0.000257</td>\n",
       "    </tr>\n",
       "  </tbody>\n",
       "</table>\n",
       "</div>"
      ],
      "text/plain": [
       "  country  num_of_regions  total_num_of_streams  avg_num_of_streams  \\\n",
       "0      AD               7                   645            2.320144   \n",
       "1      AE               7                  3409            4.998534   \n",
       "2      AG               3                    32            1.333333   \n",
       "3      AL               7                   270            1.607143   \n",
       "4      AM               3                    32            1.000000   \n",
       "\n",
       "   st_dev_of_streams  percentage  \n",
       "0           1.815007    0.005185  \n",
       "1           4.283458    0.027404  \n",
       "2           1.129319    0.000257  \n",
       "3           1.121567    0.002170  \n",
       "4           0.000000    0.000257  "
      ]
     },
     "execution_count": 15,
     "metadata": {},
     "output_type": "execute_result"
    }
   ],
   "source": [
    "per_country.head()"
   ]
  },
  {
   "cell_type": "markdown",
   "id": "08442903",
   "metadata": {},
   "source": [
    "2.A.6 order final result by country"
   ]
  },
  {
   "cell_type": "code",
   "execution_count": 16,
   "id": "9f7175a7",
   "metadata": {},
   "outputs": [],
   "source": [
    "per_country_asc = per_country.sort_values(by=['country'])"
   ]
  },
  {
   "cell_type": "code",
   "execution_count": 17,
   "id": "7ff9ebae",
   "metadata": {},
   "outputs": [
    {
     "data": {
      "text/html": [
       "<div>\n",
       "<style scoped>\n",
       "    .dataframe tbody tr th:only-of-type {\n",
       "        vertical-align: middle;\n",
       "    }\n",
       "\n",
       "    .dataframe tbody tr th {\n",
       "        vertical-align: top;\n",
       "    }\n",
       "\n",
       "    .dataframe thead th {\n",
       "        text-align: right;\n",
       "    }\n",
       "</style>\n",
       "<table border=\"1\" class=\"dataframe\">\n",
       "  <thead>\n",
       "    <tr style=\"text-align: right;\">\n",
       "      <th></th>\n",
       "      <th>country</th>\n",
       "      <th>num_of_regions</th>\n",
       "      <th>total_num_of_streams</th>\n",
       "      <th>avg_num_of_streams</th>\n",
       "      <th>st_dev_of_streams</th>\n",
       "      <th>percentage</th>\n",
       "    </tr>\n",
       "  </thead>\n",
       "  <tbody>\n",
       "    <tr>\n",
       "      <th>0</th>\n",
       "      <td>AD</td>\n",
       "      <td>7</td>\n",
       "      <td>645</td>\n",
       "      <td>2.320144</td>\n",
       "      <td>1.815007</td>\n",
       "      <td>0.005185</td>\n",
       "    </tr>\n",
       "    <tr>\n",
       "      <th>1</th>\n",
       "      <td>AE</td>\n",
       "      <td>7</td>\n",
       "      <td>3409</td>\n",
       "      <td>4.998534</td>\n",
       "      <td>4.283458</td>\n",
       "      <td>0.027404</td>\n",
       "    </tr>\n",
       "    <tr>\n",
       "      <th>2</th>\n",
       "      <td>AG</td>\n",
       "      <td>3</td>\n",
       "      <td>32</td>\n",
       "      <td>1.333333</td>\n",
       "      <td>1.129319</td>\n",
       "      <td>0.000257</td>\n",
       "    </tr>\n",
       "    <tr>\n",
       "      <th>3</th>\n",
       "      <td>AL</td>\n",
       "      <td>7</td>\n",
       "      <td>270</td>\n",
       "      <td>1.607143</td>\n",
       "      <td>1.121567</td>\n",
       "      <td>0.002170</td>\n",
       "    </tr>\n",
       "    <tr>\n",
       "      <th>4</th>\n",
       "      <td>AM</td>\n",
       "      <td>3</td>\n",
       "      <td>32</td>\n",
       "      <td>1.000000</td>\n",
       "      <td>0.000000</td>\n",
       "      <td>0.000257</td>\n",
       "    </tr>\n",
       "  </tbody>\n",
       "</table>\n",
       "</div>"
      ],
      "text/plain": [
       "  country  num_of_regions  total_num_of_streams  avg_num_of_streams  \\\n",
       "0      AD               7                   645            2.320144   \n",
       "1      AE               7                  3409            4.998534   \n",
       "2      AG               3                    32            1.333333   \n",
       "3      AL               7                   270            1.607143   \n",
       "4      AM               3                    32            1.000000   \n",
       "\n",
       "   st_dev_of_streams  percentage  \n",
       "0           1.815007    0.005185  \n",
       "1           4.283458    0.027404  \n",
       "2           1.129319    0.000257  \n",
       "3           1.121567    0.002170  \n",
       "4           0.000000    0.000257  "
      ]
     },
     "execution_count": 17,
     "metadata": {},
     "output_type": "execute_result"
    }
   ],
   "source": [
    "per_country_asc.head()"
   ]
  },
  {
   "cell_type": "code",
   "execution_count": 18,
   "id": "e09070b2",
   "metadata": {},
   "outputs": [],
   "source": [
    "per_country_desc = per_country.sort_values(by=['country'], ascending=False)"
   ]
  },
  {
   "cell_type": "code",
   "execution_count": 19,
   "id": "604addba",
   "metadata": {},
   "outputs": [
    {
     "data": {
      "text/html": [
       "<div>\n",
       "<style scoped>\n",
       "    .dataframe tbody tr th:only-of-type {\n",
       "        vertical-align: middle;\n",
       "    }\n",
       "\n",
       "    .dataframe tbody tr th {\n",
       "        vertical-align: top;\n",
       "    }\n",
       "\n",
       "    .dataframe thead th {\n",
       "        text-align: right;\n",
       "    }\n",
       "</style>\n",
       "<table border=\"1\" class=\"dataframe\">\n",
       "  <thead>\n",
       "    <tr style=\"text-align: right;\">\n",
       "      <th></th>\n",
       "      <th>country</th>\n",
       "      <th>num_of_regions</th>\n",
       "      <th>total_num_of_streams</th>\n",
       "      <th>avg_num_of_streams</th>\n",
       "      <th>st_dev_of_streams</th>\n",
       "      <th>percentage</th>\n",
       "    </tr>\n",
       "  </thead>\n",
       "  <tbody>\n",
       "    <tr>\n",
       "      <th>175</th>\n",
       "      <td>ZW</td>\n",
       "      <td>1</td>\n",
       "      <td>15</td>\n",
       "      <td>1.500000</td>\n",
       "      <td>0.707107</td>\n",
       "      <td>0.000121</td>\n",
       "    </tr>\n",
       "    <tr>\n",
       "      <th>174</th>\n",
       "      <td>ZM</td>\n",
       "      <td>3</td>\n",
       "      <td>45</td>\n",
       "      <td>1.153846</td>\n",
       "      <td>0.431549</td>\n",
       "      <td>0.000362</td>\n",
       "    </tr>\n",
       "    <tr>\n",
       "      <th>173</th>\n",
       "      <td>ZA</td>\n",
       "      <td>10</td>\n",
       "      <td>4998</td>\n",
       "      <td>5.426710</td>\n",
       "      <td>5.603697</td>\n",
       "      <td>0.040178</td>\n",
       "    </tr>\n",
       "    <tr>\n",
       "      <th>172</th>\n",
       "      <td>XK</td>\n",
       "      <td>1</td>\n",
       "      <td>100</td>\n",
       "      <td>1.351351</td>\n",
       "      <td>0.729654</td>\n",
       "      <td>0.000804</td>\n",
       "    </tr>\n",
       "    <tr>\n",
       "      <th>171</th>\n",
       "      <td>VU</td>\n",
       "      <td>1</td>\n",
       "      <td>2</td>\n",
       "      <td>1.000000</td>\n",
       "      <td>0.000000</td>\n",
       "      <td>0.000016</td>\n",
       "    </tr>\n",
       "  </tbody>\n",
       "</table>\n",
       "</div>"
      ],
      "text/plain": [
       "    country  num_of_regions  total_num_of_streams  avg_num_of_streams  \\\n",
       "175      ZW               1                    15            1.500000   \n",
       "174      ZM               3                    45            1.153846   \n",
       "173      ZA              10                  4998            5.426710   \n",
       "172      XK               1                   100            1.351351   \n",
       "171      VU               1                     2            1.000000   \n",
       "\n",
       "     st_dev_of_streams  percentage  \n",
       "175           0.707107    0.000121  \n",
       "174           0.431549    0.000362  \n",
       "173           5.603697    0.040178  \n",
       "172           0.729654    0.000804  \n",
       "171           0.000000    0.000016  "
      ]
     },
     "execution_count": 19,
     "metadata": {},
     "output_type": "execute_result"
    }
   ],
   "source": [
    "per_country_desc.head()"
   ]
  },
  {
   "cell_type": "markdown",
   "id": "159a5f73",
   "metadata": {},
   "source": [
    "visualization for 2.A"
   ]
  },
  {
   "cell_type": "code",
   "execution_count": 21,
   "id": "59a5e0c4",
   "metadata": {},
   "outputs": [
    {
     "data": {
      "image/png": "[encoded data removed]",
      "text/plain": [
       "<Figure size 1800x504 with 1 Axes>"
      ]
     },
     "metadata": {
      "needs_background": "light"
     },
     "output_type": "display_data"
    },
    {
     "data": {
      "image/png": "[encoded data removed]",
      "text/plain": [
       "<Figure size 1800x504 with 1 Axes>"
      ]
     },
     "metadata": {
      "needs_background": "light"
     },
     "output_type": "display_data"
    },
    {
     "data": {
      "image/png": "[encoded data removed]",
      "text/plain": [
       "<Figure size 1800x504 with 1 Axes>"
      ]
     },
     "metadata": {
      "needs_background": "light"
     },
     "output_type": "display_data"
    },
    {
     "data": {
      "image/png": "[encoded data removed]",
      "text/plain": [
       "<Figure size 1800x504 with 1 Axes>"
      ]
     },
     "metadata": {
      "needs_background": "light"
     },
     "output_type": "display_data"
    },
    {
     "data": {
      "image/png": "[encoded data removed]",
      "text/plain": [
       "<Figure size 1800x504 with 1 Axes>"
      ]
     },
     "metadata": {
      "needs_background": "light"
     },
     "output_type": "display_data"
    }
   ],
   "source": [
    "for col in per_country_asc:\n",
    "    if col == \"country\":\n",
    "        continue\n",
    "    plt.figure(figsize=(25, 7))\n",
    "    plt.bar(per_country_asc[\"country\"].index, per_country_asc[col])\n",
    "    plt.title(f\"column = {col}\")\n",
    "    plt.show();"
   ]
  },
  {
   "cell_type": "markdown",
   "id": "544f7cf9",
   "metadata": {},
   "source": [
    "#### 2.B per gender"
   ]
  },
  {
   "cell_type": "markdown",
   "id": "44977583",
   "metadata": {},
   "source": [
    "2.B.1 number of streams"
   ]
  },
  {
   "cell_type": "code",
   "execution_count": 36,
   "id": "b435fed0",
   "metadata": {},
   "outputs": [],
   "source": [
    "num_of_streams = streams.groupby(\"gender\")[\"n_of_streams\"].sum()"
   ]
  },
  {
   "cell_type": "markdown",
   "id": "3f1e5401",
   "metadata": {},
   "source": [
    "2.B.2 percentage of streams\n"
   ]
  },
  {
   "cell_type": "code",
   "execution_count": 37,
   "id": "606acafd",
   "metadata": {},
   "outputs": [],
   "source": [
    "percentage = [(x/total_num)*100 for x in num_of_streams]"
   ]
  },
  {
   "cell_type": "markdown",
   "id": "2ebad480",
   "metadata": {},
   "source": [
    "2.B.3 number of distinct regions"
   ]
  },
  {
   "cell_type": "code",
   "execution_count": 38,
   "id": "bcbee5c3",
   "metadata": {},
   "outputs": [],
   "source": [
    "num_of_distinct_regions = streams.groupby(\"gender\")[\"region\"].nunique()"
   ]
  },
  {
   "cell_type": "code",
   "execution_count": 39,
   "id": "17e79c67",
   "metadata": {},
   "outputs": [],
   "source": [
    "genders = pd.DataFrame(num_of_streams).index\n",
    "df = pd.DataFrame()\n",
    "df[\"gender\"] = gender\n",
    "per_gender = pd.merge( df[\"gender\"], num_of_streams, on=\"gender\")\n",
    "per_gender = pd.merge( per_gender, num_of_distinct_regions, on=\"gender\")\n",
    "per_gender[\"percentage\"] = percentage"
   ]
  },
  {
   "cell_type": "code",
   "execution_count": 40,
   "id": "48deb683",
   "metadata": {},
   "outputs": [],
   "source": [
    "per_gender = per_gender.rename({'n_of_streams': 'num_of_streams'}, axis=1)\n",
    "per_gender = per_gender.rename({'region': 'num_of_distinct_regions'}, axis=1)"
   ]
  },
  {
   "cell_type": "code",
   "execution_count": 41,
   "id": "80cdfcaa",
   "metadata": {},
   "outputs": [
    {
     "data": {
      "text/html": [
       "<div>\n",
       "<style scoped>\n",
       "    .dataframe tbody tr th:only-of-type {\n",
       "        vertical-align: middle;\n",
       "    }\n",
       "\n",
       "    .dataframe tbody tr th {\n",
       "        vertical-align: top;\n",
       "    }\n",
       "\n",
       "    .dataframe thead th {\n",
       "        text-align: right;\n",
       "    }\n",
       "</style>\n",
       "<table border=\"1\" class=\"dataframe\">\n",
       "  <thead>\n",
       "    <tr style=\"text-align: right;\">\n",
       "      <th></th>\n",
       "      <th>gender</th>\n",
       "      <th>num_of_streams</th>\n",
       "      <th>num_of_distinct_regions</th>\n",
       "      <th>percentage</th>\n",
       "    </tr>\n",
       "  </thead>\n",
       "  <tbody>\n",
       "    <tr>\n",
       "      <th>0</th>\n",
       "      <td>all</td>\n",
       "      <td>5925588</td>\n",
       "      <td>2331</td>\n",
       "      <td>47.634535</td>\n",
       "    </tr>\n",
       "    <tr>\n",
       "      <th>1</th>\n",
       "      <td>female</td>\n",
       "      <td>2269890</td>\n",
       "      <td>1997</td>\n",
       "      <td>18.247160</td>\n",
       "    </tr>\n",
       "    <tr>\n",
       "      <th>2</th>\n",
       "      <td>male</td>\n",
       "      <td>3655698</td>\n",
       "      <td>2168</td>\n",
       "      <td>29.387375</td>\n",
       "    </tr>\n",
       "  </tbody>\n",
       "</table>\n",
       "</div>"
      ],
      "text/plain": [
       "   gender  num_of_streams  num_of_distinct_regions  percentage\n",
       "0     all         5925588                     2331   47.634535\n",
       "1  female         2269890                     1997   18.247160\n",
       "2    male         3655698                     2168   29.387375"
      ]
     },
     "execution_count": 41,
     "metadata": {},
     "output_type": "execute_result"
    }
   ],
   "source": [
    "per_gender.head()"
   ]
  },
  {
   "cell_type": "markdown",
   "id": "b3c11146",
   "metadata": {},
   "source": [
    "visualization for 2.B"
   ]
  },
  {
   "cell_type": "code",
   "execution_count": 42,
   "id": "43e4ad27",
   "metadata": {},
   "outputs": [
    {
     "data": {
      "image/png": "[encoded data removed]",
      "text/plain": [
       "<Figure size 720x504 with 1 Axes>"
      ]
     },
     "metadata": {
      "needs_background": "light"
     },
     "output_type": "display_data"
    },
    {
     "data": {
      "image/png": "[encoded data removed]",
      "text/plain": [
       "<Figure size 720x504 with 1 Axes>"
      ]
     },
     "metadata": {
      "needs_background": "light"
     },
     "output_type": "display_data"
    },
    {
     "data": {
      "image/png": "[encoded data removed]",
      "text/plain": [
       "<Figure size 720x504 with 1 Axes>"
      ]
     },
     "metadata": {
      "needs_background": "light"
     },
     "output_type": "display_data"
    }
   ],
   "source": [
    "for col in per_gender:\n",
    "    if col == \"gender\":\n",
    "        continue\n",
    "    plt.figure(figsize=(10, 7))\n",
    "    plt.bar(per_gender[\"gender\"], per_gender[col])\n",
    "    plt.title(f\"column = {col}\")\n",
    "    plt.show();"
   ]
  },
  {
   "cell_type": "markdown",
   "id": "dc13d9d7",
   "metadata": {},
   "source": [
    "### Task 3. Detect outliers"
   ]
  },
  {
   "cell_type": "markdown",
   "id": "a07e6cfd",
   "metadata": {},
   "source": [
    "3.1 create \"_outlier\" variable of boolean type"
   ]
  },
  {
   "cell_type": "markdown",
   "id": "f0319056",
   "metadata": {},
   "source": [
    "3.2 Assign a value True if the row is considered an outlier, and False if not\n"
   ]
  },
  {
   "cell_type": "markdown",
   "id": "10dd4d1f",
   "metadata": {},
   "source": [
    "3.3 A row is considered an outlier if the value of n_of_streams is out of +-1.5*IQR for country, region, gender group"
   ]
  },
  {
   "cell_type": "code",
   "execution_count": 43,
   "id": "c31844a2",
   "metadata": {},
   "outputs": [],
   "source": [
    "_outlier = False"
   ]
  },
  {
   "cell_type": "code",
   "execution_count": 44,
   "id": "e3483e67",
   "metadata": {},
   "outputs": [],
   "source": [
    "def is_outlier(df):\n",
    "    _outlier = False\n",
    "    q3, q1 = np.percentile(df, [75 ,25])\n",
    "    iqr = q3 - q1\n",
    "    upper_quartiles = q3 + 1.5 * iqr\n",
    "    lower_quartiles = q1 - 1.5 * iqr\n",
    "\n",
    "    _outliers=[]\n",
    "\n",
    "    for stream in df:\n",
    "        if stream < lower_quartiles or stream > upper_quartiles:\n",
    "            _outlier = True\n",
    "        _outliers.append(_outlier)\n",
    "        _outlier = False\n",
    "    return _outliers"
   ]
  },
  {
   "cell_type": "code",
   "execution_count": 45,
   "id": "094799b6",
   "metadata": {},
   "outputs": [],
   "source": [
    "streams[\"is_outlier\"] = is_outlier(streams[\"n_of_streams\"])"
   ]
  },
  {
   "cell_type": "code",
   "execution_count": 46,
   "id": "5053033b",
   "metadata": {},
   "outputs": [
    {
     "data": {
      "text/html": [
       "<div>\n",
       "<style scoped>\n",
       "    .dataframe tbody tr th:only-of-type {\n",
       "        vertical-align: middle;\n",
       "    }\n",
       "\n",
       "    .dataframe tbody tr th {\n",
       "        vertical-align: top;\n",
       "    }\n",
       "\n",
       "    .dataframe thead th {\n",
       "        text-align: right;\n",
       "    }\n",
       "</style>\n",
       "<table border=\"1\" class=\"dataframe\">\n",
       "  <thead>\n",
       "    <tr style=\"text-align: right;\">\n",
       "      <th></th>\n",
       "      <th>Unnamed: 0</th>\n",
       "      <th>date</th>\n",
       "      <th>country</th>\n",
       "      <th>region</th>\n",
       "      <th>gender</th>\n",
       "      <th>n_of_streams</th>\n",
       "      <th>is_outlier</th>\n",
       "    </tr>\n",
       "  </thead>\n",
       "  <tbody>\n",
       "    <tr>\n",
       "      <th>0</th>\n",
       "      <td>0</td>\n",
       "      <td>2021-10-19</td>\n",
       "      <td>US</td>\n",
       "      <td>539</td>\n",
       "      <td>NaN</td>\n",
       "      <td>23</td>\n",
       "      <td>False</td>\n",
       "    </tr>\n",
       "    <tr>\n",
       "      <th>1</th>\n",
       "      <td>1</td>\n",
       "      <td>2021-10-20</td>\n",
       "      <td>SE</td>\n",
       "      <td>SE-AB</td>\n",
       "      <td>male</td>\n",
       "      <td>110</td>\n",
       "      <td>True</td>\n",
       "    </tr>\n",
       "    <tr>\n",
       "      <th>2</th>\n",
       "      <td>2</td>\n",
       "      <td>2021-10-26</td>\n",
       "      <td>FR</td>\n",
       "      <td>FR-67</td>\n",
       "      <td>male</td>\n",
       "      <td>3</td>\n",
       "      <td>False</td>\n",
       "    </tr>\n",
       "    <tr>\n",
       "      <th>3</th>\n",
       "      <td>3</td>\n",
       "      <td>2021-11-28</td>\n",
       "      <td>EC</td>\n",
       "      <td>EC-F</td>\n",
       "      <td>female</td>\n",
       "      <td>3</td>\n",
       "      <td>False</td>\n",
       "    </tr>\n",
       "    <tr>\n",
       "      <th>4</th>\n",
       "      <td>4</td>\n",
       "      <td>2021-10-17</td>\n",
       "      <td>GR</td>\n",
       "      <td>GR-54</td>\n",
       "      <td>NaN</td>\n",
       "      <td>1</td>\n",
       "      <td>False</td>\n",
       "    </tr>\n",
       "  </tbody>\n",
       "</table>\n",
       "</div>"
      ],
      "text/plain": [
       "   Unnamed: 0        date country region  gender  n_of_streams  is_outlier\n",
       "0           0  2021-10-19      US    539     NaN            23       False\n",
       "1           1  2021-10-20      SE  SE-AB    male           110        True\n",
       "2           2  2021-10-26      FR  FR-67    male             3       False\n",
       "3           3  2021-11-28      EC   EC-F  female             3       False\n",
       "4           4  2021-10-17      GR  GR-54     NaN             1       False"
      ]
     },
     "execution_count": 46,
     "metadata": {},
     "output_type": "execute_result"
    }
   ],
   "source": [
    "streams.head()"
   ]
  },
  {
   "cell_type": "code",
   "execution_count": 47,
   "id": "8e68ed77",
   "metadata": {},
   "outputs": [
    {
     "data": {
      "text/plain": [
       "False    200031\n",
       "True      33710\n",
       "Name: is_outlier, dtype: int64"
      ]
     },
     "execution_count": 47,
     "metadata": {},
     "output_type": "execute_result"
    }
   ],
   "source": [
    "streams[\"is_outlier\"].value_counts()"
   ]
  },
  {
   "cell_type": "code",
   "execution_count": 48,
   "id": "cc6be5fe",
   "metadata": {},
   "outputs": [
    {
     "data": {
      "image/png": "[encoded data removed]",
      "text/plain": [
       "<Figure size 864x504 with 1 Axes>"
      ]
     },
     "metadata": {
      "needs_background": "light"
     },
     "output_type": "display_data"
    }
   ],
   "source": [
    "plt.figure(figsize =(12, 7))\n",
    "\n",
    "plt.boxplot(streams['n_of_streams'], vert = 0)\n",
    "plt.show();"
   ]
  },
  {
   "cell_type": "markdown",
   "id": "c2f56d29",
   "metadata": {},
   "source": [
    "outliers grouped by country"
   ]
  },
  {
   "cell_type": "code",
   "execution_count": 49,
   "id": "e3ff4fe9",
   "metadata": {},
   "outputs": [
    {
     "data": {
      "text/html": [
       "<div>\n",
       "<style scoped>\n",
       "    .dataframe tbody tr th:only-of-type {\n",
       "        vertical-align: middle;\n",
       "    }\n",
       "\n",
       "    .dataframe tbody tr th {\n",
       "        vertical-align: top;\n",
       "    }\n",
       "\n",
       "    .dataframe thead th {\n",
       "        text-align: right;\n",
       "    }\n",
       "</style>\n",
       "<table border=\"1\" class=\"dataframe\">\n",
       "  <thead>\n",
       "    <tr style=\"text-align: right;\">\n",
       "      <th></th>\n",
       "      <th>is_outlier</th>\n",
       "    </tr>\n",
       "    <tr>\n",
       "      <th>country</th>\n",
       "      <th></th>\n",
       "    </tr>\n",
       "  </thead>\n",
       "  <tbody>\n",
       "    <tr>\n",
       "      <th>AD</th>\n",
       "      <td>0</td>\n",
       "    </tr>\n",
       "    <tr>\n",
       "      <th>AE</th>\n",
       "      <td>0</td>\n",
       "    </tr>\n",
       "    <tr>\n",
       "      <th>AG</th>\n",
       "      <td>0</td>\n",
       "    </tr>\n",
       "    <tr>\n",
       "      <th>AL</th>\n",
       "      <td>0</td>\n",
       "    </tr>\n",
       "    <tr>\n",
       "      <th>AM</th>\n",
       "      <td>0</td>\n",
       "    </tr>\n",
       "    <tr>\n",
       "      <th>AO</th>\n",
       "      <td>0</td>\n",
       "    </tr>\n",
       "    <tr>\n",
       "      <th>AR</th>\n",
       "      <td>1174</td>\n",
       "    </tr>\n",
       "    <tr>\n",
       "      <th>AT</th>\n",
       "      <td>85</td>\n",
       "    </tr>\n",
       "    <tr>\n",
       "      <th>AU</th>\n",
       "      <td>680</td>\n",
       "    </tr>\n",
       "    <tr>\n",
       "      <th>AZ</th>\n",
       "      <td>0</td>\n",
       "    </tr>\n",
       "  </tbody>\n",
       "</table>\n",
       "</div>"
      ],
      "text/plain": [
       "         is_outlier\n",
       "country            \n",
       "AD                0\n",
       "AE                0\n",
       "AG                0\n",
       "AL                0\n",
       "AM                0\n",
       "AO                0\n",
       "AR             1174\n",
       "AT               85\n",
       "AU              680\n",
       "AZ                0"
      ]
     },
     "execution_count": 49,
     "metadata": {},
     "output_type": "execute_result"
    }
   ],
   "source": [
    "streams.groupby('country')['is_outlier'].sum().to_frame().head(10)"
   ]
  },
  {
   "cell_type": "markdown",
   "id": "83508983",
   "metadata": {},
   "source": [
    "outliers grouped by gender"
   ]
  },
  {
   "cell_type": "code",
   "execution_count": 50,
   "id": "57c9798d",
   "metadata": {},
   "outputs": [
    {
     "data": {
      "text/html": [
       "<div>\n",
       "<style scoped>\n",
       "    .dataframe tbody tr th:only-of-type {\n",
       "        vertical-align: middle;\n",
       "    }\n",
       "\n",
       "    .dataframe tbody tr th {\n",
       "        vertical-align: top;\n",
       "    }\n",
       "\n",
       "    .dataframe thead th {\n",
       "        text-align: right;\n",
       "    }\n",
       "</style>\n",
       "<table border=\"1\" class=\"dataframe\">\n",
       "  <thead>\n",
       "    <tr style=\"text-align: right;\">\n",
       "      <th></th>\n",
       "      <th>is_outlier</th>\n",
       "    </tr>\n",
       "    <tr>\n",
       "      <th>gender</th>\n",
       "      <th></th>\n",
       "    </tr>\n",
       "  </thead>\n",
       "  <tbody>\n",
       "    <tr>\n",
       "      <th>all</th>\n",
       "      <td>14013</td>\n",
       "    </tr>\n",
       "    <tr>\n",
       "      <th>female</th>\n",
       "      <td>7890</td>\n",
       "    </tr>\n",
       "    <tr>\n",
       "      <th>male</th>\n",
       "      <td>9899</td>\n",
       "    </tr>\n",
       "  </tbody>\n",
       "</table>\n",
       "</div>"
      ],
      "text/plain": [
       "        is_outlier\n",
       "gender            \n",
       "all          14013\n",
       "female        7890\n",
       "male          9899"
      ]
     },
     "execution_count": 50,
     "metadata": {},
     "output_type": "execute_result"
    }
   ],
   "source": [
    "streams.groupby('gender')['is_outlier'].sum().to_frame().head()"
   ]
  },
  {
   "cell_type": "markdown",
   "id": "1b7befd1",
   "metadata": {},
   "source": [
    "outliers grouped by region"
   ]
  },
  {
   "cell_type": "code",
   "execution_count": 51,
   "id": "b2807414",
   "metadata": {},
   "outputs": [
    {
     "data": {
      "text/html": [
       "<div>\n",
       "<style scoped>\n",
       "    .dataframe tbody tr th:only-of-type {\n",
       "        vertical-align: middle;\n",
       "    }\n",
       "\n",
       "    .dataframe tbody tr th {\n",
       "        vertical-align: top;\n",
       "    }\n",
       "\n",
       "    .dataframe thead th {\n",
       "        text-align: right;\n",
       "    }\n",
       "</style>\n",
       "<table border=\"1\" class=\"dataframe\">\n",
       "  <thead>\n",
       "    <tr style=\"text-align: right;\">\n",
       "      <th></th>\n",
       "      <th>is_outlier</th>\n",
       "    </tr>\n",
       "    <tr>\n",
       "      <th>region</th>\n",
       "      <th></th>\n",
       "    </tr>\n",
       "  </thead>\n",
       "  <tbody>\n",
       "    <tr>\n",
       "      <th>500</th>\n",
       "      <td>2</td>\n",
       "    </tr>\n",
       "    <tr>\n",
       "      <th>501</th>\n",
       "      <td>256</td>\n",
       "    </tr>\n",
       "    <tr>\n",
       "      <th>502</th>\n",
       "      <td>0</td>\n",
       "    </tr>\n",
       "    <tr>\n",
       "      <th>503</th>\n",
       "      <td>0</td>\n",
       "    </tr>\n",
       "    <tr>\n",
       "      <th>504</th>\n",
       "      <td>198</td>\n",
       "    </tr>\n",
       "  </tbody>\n",
       "</table>\n",
       "</div>"
      ],
      "text/plain": [
       "        is_outlier\n",
       "region            \n",
       "500              2\n",
       "501            256\n",
       "502              0\n",
       "503              0\n",
       "504            198"
      ]
     },
     "execution_count": 51,
     "metadata": {},
     "output_type": "execute_result"
    }
   ],
   "source": [
    "streams.groupby('region')['is_outlier'].sum().to_frame().head()"
   ]
  },
  {
   "cell_type": "markdown",
   "id": "a8fc9315",
   "metadata": {},
   "source": [
    "### Task 4. Generate spikes"
   ]
  },
  {
   "cell_type": "markdown",
   "id": "bba22dab",
   "metadata": {},
   "source": [
    "4.1 A spike is defined as an occasion when the moving average for the number of streams(previous 3 days) proceeds the moving average for the number of streams(previous 10 days) by 10 percent\n"
   ]
  },
  {
   "cell_type": "markdown",
   "id": "aae3603d",
   "metadata": {},
   "source": [
    "4.2 Create a boolean variable which shows if the instance is a spike of not"
   ]
  },
  {
   "cell_type": "markdown",
   "id": "164c6fd9",
   "metadata": {},
   "source": [
    "4.3 Compute number of spikes per group (country, region, gender (male, female, all))"
   ]
  },
  {
   "cell_type": "code",
   "execution_count": 52,
   "id": "5bf191c0",
   "metadata": {},
   "outputs": [
    {
     "data": {
      "text/html": [
       "<div>\n",
       "<style scoped>\n",
       "    .dataframe tbody tr th:only-of-type {\n",
       "        vertical-align: middle;\n",
       "    }\n",
       "\n",
       "    .dataframe tbody tr th {\n",
       "        vertical-align: top;\n",
       "    }\n",
       "\n",
       "    .dataframe thead th {\n",
       "        text-align: right;\n",
       "    }\n",
       "</style>\n",
       "<table border=\"1\" class=\"dataframe\">\n",
       "  <thead>\n",
       "    <tr style=\"text-align: right;\">\n",
       "      <th></th>\n",
       "      <th>Unnamed: 0</th>\n",
       "      <th>date</th>\n",
       "      <th>country</th>\n",
       "      <th>region</th>\n",
       "      <th>gender</th>\n",
       "      <th>n_of_streams</th>\n",
       "      <th>is_outlier</th>\n",
       "    </tr>\n",
       "  </thead>\n",
       "  <tbody>\n",
       "    <tr>\n",
       "      <th>77705</th>\n",
       "      <td>77705</td>\n",
       "      <td>2021-10-09</td>\n",
       "      <td>GB</td>\n",
       "      <td>GB-WFT</td>\n",
       "      <td>all</td>\n",
       "      <td>9</td>\n",
       "      <td>False</td>\n",
       "    </tr>\n",
       "    <tr>\n",
       "      <th>143821</th>\n",
       "      <td>143821</td>\n",
       "      <td>2021-10-09</td>\n",
       "      <td>NL</td>\n",
       "      <td>NL-GR</td>\n",
       "      <td>female</td>\n",
       "      <td>6</td>\n",
       "      <td>False</td>\n",
       "    </tr>\n",
       "    <tr>\n",
       "      <th>86199</th>\n",
       "      <td>86199</td>\n",
       "      <td>2021-10-09</td>\n",
       "      <td>ES</td>\n",
       "      <td>ES-Z</td>\n",
       "      <td>all</td>\n",
       "      <td>82</td>\n",
       "      <td>True</td>\n",
       "    </tr>\n",
       "    <tr>\n",
       "      <th>86210</th>\n",
       "      <td>86210</td>\n",
       "      <td>2021-10-09</td>\n",
       "      <td>AR</td>\n",
       "      <td>AR-Y</td>\n",
       "      <td>all</td>\n",
       "      <td>6</td>\n",
       "      <td>False</td>\n",
       "    </tr>\n",
       "    <tr>\n",
       "      <th>86235</th>\n",
       "      <td>86235</td>\n",
       "      <td>2021-10-09</td>\n",
       "      <td>EC</td>\n",
       "      <td>EC-C</td>\n",
       "      <td>all</td>\n",
       "      <td>5</td>\n",
       "      <td>False</td>\n",
       "    </tr>\n",
       "  </tbody>\n",
       "</table>\n",
       "</div>"
      ],
      "text/plain": [
       "        Unnamed: 0        date country  region  gender  n_of_streams  \\\n",
       "77705        77705  2021-10-09      GB  GB-WFT     all             9   \n",
       "143821      143821  2021-10-09      NL   NL-GR  female             6   \n",
       "86199        86199  2021-10-09      ES    ES-Z     all            82   \n",
       "86210        86210  2021-10-09      AR    AR-Y     all             6   \n",
       "86235        86235  2021-10-09      EC    EC-C     all             5   \n",
       "\n",
       "        is_outlier  \n",
       "77705        False  \n",
       "143821       False  \n",
       "86199         True  \n",
       "86210        False  \n",
       "86235        False  "
      ]
     },
     "execution_count": 52,
     "metadata": {},
     "output_type": "execute_result"
    }
   ],
   "source": [
    "streams_copy = streams.sort_values(by=['date'])\n",
    "streams_copy.head()"
   ]
  },
  {
   "cell_type": "code",
   "execution_count": 53,
   "id": "f0223f5b",
   "metadata": {},
   "outputs": [],
   "source": [
    "date = streams.groupby(\"date\")[\"n_of_streams\"].sum()\n",
    "index = date.index\n",
    "dates_tab = pd.DataFrame()\n",
    "dates_tab[\"date\"] = index\n",
    "dates_tab = pd.merge(dates_tab, date, on=\"date\")"
   ]
  },
  {
   "cell_type": "code",
   "execution_count": 54,
   "id": "2ef584ff",
   "metadata": {},
   "outputs": [
    {
     "data": {
      "text/html": [
       "<div>\n",
       "<style scoped>\n",
       "    .dataframe tbody tr th:only-of-type {\n",
       "        vertical-align: middle;\n",
       "    }\n",
       "\n",
       "    .dataframe tbody tr th {\n",
       "        vertical-align: top;\n",
       "    }\n",
       "\n",
       "    .dataframe thead th {\n",
       "        text-align: right;\n",
       "    }\n",
       "</style>\n",
       "<table border=\"1\" class=\"dataframe\">\n",
       "  <thead>\n",
       "    <tr style=\"text-align: right;\">\n",
       "      <th></th>\n",
       "      <th>date</th>\n",
       "      <th>n_of_streams</th>\n",
       "    </tr>\n",
       "  </thead>\n",
       "  <tbody>\n",
       "    <tr>\n",
       "      <th>0</th>\n",
       "      <td>2021-10-09</td>\n",
       "      <td>238115</td>\n",
       "    </tr>\n",
       "    <tr>\n",
       "      <th>1</th>\n",
       "      <td>2021-10-10</td>\n",
       "      <td>206134</td>\n",
       "    </tr>\n",
       "    <tr>\n",
       "      <th>2</th>\n",
       "      <td>2021-10-11</td>\n",
       "      <td>177108</td>\n",
       "    </tr>\n",
       "    <tr>\n",
       "      <th>3</th>\n",
       "      <td>2021-10-12</td>\n",
       "      <td>177516</td>\n",
       "    </tr>\n",
       "    <tr>\n",
       "      <th>4</th>\n",
       "      <td>2021-10-13</td>\n",
       "      <td>178170</td>\n",
       "    </tr>\n",
       "  </tbody>\n",
       "</table>\n",
       "</div>"
      ],
      "text/plain": [
       "         date  n_of_streams\n",
       "0  2021-10-09        238115\n",
       "1  2021-10-10        206134\n",
       "2  2021-10-11        177108\n",
       "3  2021-10-12        177516\n",
       "4  2021-10-13        178170"
      ]
     },
     "execution_count": 54,
     "metadata": {},
     "output_type": "execute_result"
    }
   ],
   "source": [
    "dates_tab.head()"
   ]
  },
  {
   "cell_type": "code",
   "execution_count": 55,
   "id": "dc385976",
   "metadata": {},
   "outputs": [],
   "source": [
    "is_spikes = [np.nan for i in range(10)]\n",
    "\n",
    "s = []\n",
    "a = dates_tab[\"n_of_streams\"]\n",
    "\n",
    "for i in range(10, len(a)):\n",
    "    sum_3_day = (a[i-1] + a[i-2] + a[i-3])\n",
    "    sum_10_day = sum_3_day\n",
    "    \n",
    "    for j in range(4, 11):\n",
    "        sum_10_day += a[i-j]\n",
    "    \n",
    "    avg_3_day = sum_3_day/3\n",
    "    avg_10_day = sum_10_day/10\n",
    "    \n",
    "    S = avg_3_day/avg_10_day\n",
    "    s.append(S)\n",
    "    if S > 1.1:\n",
    "        is_spikes.append(True)\n",
    "    else:\n",
    "        is_spikes.append(False)"
   ]
  },
  {
   "cell_type": "code",
   "execution_count": 56,
   "id": "c923fd92",
   "metadata": {},
   "outputs": [],
   "source": [
    "dates_tab[\"is_spikes\"] = is_spikes"
   ]
  },
  {
   "cell_type": "code",
   "execution_count": 57,
   "id": "7dfa603e",
   "metadata": {},
   "outputs": [
    {
     "data": {
      "text/html": [
       "<div>\n",
       "<style scoped>\n",
       "    .dataframe tbody tr th:only-of-type {\n",
       "        vertical-align: middle;\n",
       "    }\n",
       "\n",
       "    .dataframe tbody tr th {\n",
       "        vertical-align: top;\n",
       "    }\n",
       "\n",
       "    .dataframe thead th {\n",
       "        text-align: right;\n",
       "    }\n",
       "</style>\n",
       "<table border=\"1\" class=\"dataframe\">\n",
       "  <thead>\n",
       "    <tr style=\"text-align: right;\">\n",
       "      <th></th>\n",
       "      <th>date</th>\n",
       "      <th>n_of_streams</th>\n",
       "      <th>is_spikes</th>\n",
       "    </tr>\n",
       "  </thead>\n",
       "  <tbody>\n",
       "    <tr>\n",
       "      <th>0</th>\n",
       "      <td>2021-10-09</td>\n",
       "      <td>238115</td>\n",
       "      <td>NaN</td>\n",
       "    </tr>\n",
       "    <tr>\n",
       "      <th>1</th>\n",
       "      <td>2021-10-10</td>\n",
       "      <td>206134</td>\n",
       "      <td>NaN</td>\n",
       "    </tr>\n",
       "    <tr>\n",
       "      <th>2</th>\n",
       "      <td>2021-10-11</td>\n",
       "      <td>177108</td>\n",
       "      <td>NaN</td>\n",
       "    </tr>\n",
       "    <tr>\n",
       "      <th>3</th>\n",
       "      <td>2021-10-12</td>\n",
       "      <td>177516</td>\n",
       "      <td>NaN</td>\n",
       "    </tr>\n",
       "    <tr>\n",
       "      <th>4</th>\n",
       "      <td>2021-10-13</td>\n",
       "      <td>178170</td>\n",
       "      <td>NaN</td>\n",
       "    </tr>\n",
       "    <tr>\n",
       "      <th>5</th>\n",
       "      <td>2021-10-14</td>\n",
       "      <td>182138</td>\n",
       "      <td>NaN</td>\n",
       "    </tr>\n",
       "    <tr>\n",
       "      <th>6</th>\n",
       "      <td>2021-10-15</td>\n",
       "      <td>207792</td>\n",
       "      <td>NaN</td>\n",
       "    </tr>\n",
       "    <tr>\n",
       "      <th>7</th>\n",
       "      <td>2021-10-16</td>\n",
       "      <td>239299</td>\n",
       "      <td>NaN</td>\n",
       "    </tr>\n",
       "    <tr>\n",
       "      <th>8</th>\n",
       "      <td>2021-10-17</td>\n",
       "      <td>213122</td>\n",
       "      <td>NaN</td>\n",
       "    </tr>\n",
       "    <tr>\n",
       "      <th>9</th>\n",
       "      <td>2021-10-18</td>\n",
       "      <td>175333</td>\n",
       "      <td>NaN</td>\n",
       "    </tr>\n",
       "    <tr>\n",
       "      <th>10</th>\n",
       "      <td>2021-10-19</td>\n",
       "      <td>170354</td>\n",
       "      <td>False</td>\n",
       "    </tr>\n",
       "    <tr>\n",
       "      <th>11</th>\n",
       "      <td>2021-10-20</td>\n",
       "      <td>175577</td>\n",
       "      <td>False</td>\n",
       "    </tr>\n",
       "    <tr>\n",
       "      <th>12</th>\n",
       "      <td>2021-10-21</td>\n",
       "      <td>188747</td>\n",
       "      <td>False</td>\n",
       "    </tr>\n",
       "    <tr>\n",
       "      <th>13</th>\n",
       "      <td>2021-10-22</td>\n",
       "      <td>207493</td>\n",
       "      <td>False</td>\n",
       "    </tr>\n",
       "    <tr>\n",
       "      <th>14</th>\n",
       "      <td>2021-10-23</td>\n",
       "      <td>230908</td>\n",
       "      <td>False</td>\n",
       "    </tr>\n",
       "  </tbody>\n",
       "</table>\n",
       "</div>"
      ],
      "text/plain": [
       "          date  n_of_streams is_spikes\n",
       "0   2021-10-09        238115       NaN\n",
       "1   2021-10-10        206134       NaN\n",
       "2   2021-10-11        177108       NaN\n",
       "3   2021-10-12        177516       NaN\n",
       "4   2021-10-13        178170       NaN\n",
       "5   2021-10-14        182138       NaN\n",
       "6   2021-10-15        207792       NaN\n",
       "7   2021-10-16        239299       NaN\n",
       "8   2021-10-17        213122       NaN\n",
       "9   2021-10-18        175333       NaN\n",
       "10  2021-10-19        170354     False\n",
       "11  2021-10-20        175577     False\n",
       "12  2021-10-21        188747     False\n",
       "13  2021-10-22        207493     False\n",
       "14  2021-10-23        230908     False"
      ]
     },
     "execution_count": 57,
     "metadata": {},
     "output_type": "execute_result"
    }
   ],
   "source": [
    "dates_tab.head(15)"
   ]
  },
  {
   "cell_type": "code",
   "execution_count": 58,
   "id": "d5140a63",
   "metadata": {},
   "outputs": [
    {
     "data": {
      "text/plain": [
       "False    53\n",
       "True      1\n",
       "Name: is_spikes, dtype: int64"
      ]
     },
     "execution_count": 58,
     "metadata": {},
     "output_type": "execute_result"
    }
   ],
   "source": [
    "dates_tab[\"is_spikes\"].value_counts()"
   ]
  },
  {
   "cell_type": "code",
   "execution_count": 59,
   "id": "d2918666",
   "metadata": {},
   "outputs": [],
   "source": [
    "dates_tab = dates_tab.drop(\"n_of_streams\", axis=1)\n",
    "streams = pd.merge(streams, dates_tab, on=\"date\")"
   ]
  },
  {
   "cell_type": "code",
   "execution_count": 60,
   "id": "55f56679",
   "metadata": {},
   "outputs": [
    {
     "data": {
      "text/html": [
       "<div>\n",
       "<style scoped>\n",
       "    .dataframe tbody tr th:only-of-type {\n",
       "        vertical-align: middle;\n",
       "    }\n",
       "\n",
       "    .dataframe tbody tr th {\n",
       "        vertical-align: top;\n",
       "    }\n",
       "\n",
       "    .dataframe thead th {\n",
       "        text-align: right;\n",
       "    }\n",
       "</style>\n",
       "<table border=\"1\" class=\"dataframe\">\n",
       "  <thead>\n",
       "    <tr style=\"text-align: right;\">\n",
       "      <th></th>\n",
       "      <th>Unnamed: 0</th>\n",
       "      <th>date</th>\n",
       "      <th>country</th>\n",
       "      <th>region</th>\n",
       "      <th>gender</th>\n",
       "      <th>n_of_streams</th>\n",
       "      <th>is_outlier</th>\n",
       "      <th>is_spikes</th>\n",
       "    </tr>\n",
       "  </thead>\n",
       "  <tbody>\n",
       "    <tr>\n",
       "      <th>0</th>\n",
       "      <td>0</td>\n",
       "      <td>2021-10-19</td>\n",
       "      <td>US</td>\n",
       "      <td>539</td>\n",
       "      <td>NaN</td>\n",
       "      <td>23</td>\n",
       "      <td>False</td>\n",
       "      <td>False</td>\n",
       "    </tr>\n",
       "    <tr>\n",
       "      <th>1</th>\n",
       "      <td>79</td>\n",
       "      <td>2021-10-19</td>\n",
       "      <td>RO</td>\n",
       "      <td>RO-AR</td>\n",
       "      <td>female</td>\n",
       "      <td>1</td>\n",
       "      <td>False</td>\n",
       "      <td>False</td>\n",
       "    </tr>\n",
       "    <tr>\n",
       "      <th>2</th>\n",
       "      <td>87</td>\n",
       "      <td>2021-10-19</td>\n",
       "      <td>AR</td>\n",
       "      <td>AR-U</td>\n",
       "      <td>NaN</td>\n",
       "      <td>1</td>\n",
       "      <td>False</td>\n",
       "      <td>False</td>\n",
       "    </tr>\n",
       "    <tr>\n",
       "      <th>3</th>\n",
       "      <td>96</td>\n",
       "      <td>2021-10-19</td>\n",
       "      <td>BR</td>\n",
       "      <td>BR-PB</td>\n",
       "      <td>female</td>\n",
       "      <td>2</td>\n",
       "      <td>False</td>\n",
       "      <td>False</td>\n",
       "    </tr>\n",
       "    <tr>\n",
       "      <th>4</th>\n",
       "      <td>151</td>\n",
       "      <td>2021-10-19</td>\n",
       "      <td>BE</td>\n",
       "      <td>BE-VAN</td>\n",
       "      <td>female</td>\n",
       "      <td>8</td>\n",
       "      <td>False</td>\n",
       "      <td>False</td>\n",
       "    </tr>\n",
       "  </tbody>\n",
       "</table>\n",
       "</div>"
      ],
      "text/plain": [
       "   Unnamed: 0        date country  region  gender  n_of_streams  is_outlier  \\\n",
       "0           0  2021-10-19      US     539     NaN            23       False   \n",
       "1          79  2021-10-19      RO   RO-AR  female             1       False   \n",
       "2          87  2021-10-19      AR    AR-U     NaN             1       False   \n",
       "3          96  2021-10-19      BR   BR-PB  female             2       False   \n",
       "4         151  2021-10-19      BE  BE-VAN  female             8       False   \n",
       "\n",
       "  is_spikes  \n",
       "0     False  \n",
       "1     False  \n",
       "2     False  \n",
       "3     False  \n",
       "4     False  "
      ]
     },
     "execution_count": 60,
     "metadata": {},
     "output_type": "execute_result"
    }
   ],
   "source": [
    "streams.head()"
   ]
  },
  {
   "cell_type": "code",
   "execution_count": 61,
   "id": "387297cb",
   "metadata": {},
   "outputs": [
    {
     "data": {
      "image/png": "[encoded data removed]",
      "text/plain": [
       "<Figure size 720x504 with 1 Axes>"
      ]
     },
     "metadata": {
      "needs_background": "light"
     },
     "output_type": "display_data"
    }
   ],
   "source": [
    "x = [i for i in range(10, len(dates_tab[\"date\"]))]\n",
    "plt.figure(figsize = (10, 7))\n",
    "\n",
    "plt.plot(x, s, \"purple\", linewidth = 2)\n",
    "plt.show()"
   ]
  }
 ],
 "metadata": {
  "kernelspec": {
   "display_name": "Python 3",
   "language": "python",
   "name": "python3"
  },
  "language_info": {
   "codemirror_mode": {
    "name": "ipython",
    "version": 3
   },
   "file_extension": ".py",
   "mimetype": "text/x-python",
   "name": "python",
   "nbconvert_exporter": "python",
   "pygments_lexer": "ipython3",
   "version": "3.8.8"
  }
 },
 "nbformat": 4,
 "nbformat_minor": 5
}
